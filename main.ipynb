{
 "cells": [
  {
   "cell_type": "code",
   "execution_count": null,
   "metadata": {},
   "outputs": [],
   "source": [
    "import pandas as pd\n",
    "from sklearn.model_selection import train_test_split\n",
    "from sklearn.feature_extraction.text import TfidfVectorizer\n",
    "from sklearn.linear_model import LogisticRegression\n",
    "from sklearn.metrics import classification_report\n",
    "import joblib\n\n",
    "# Load dataset\n",
    "df = pd.read_csv('data/resumes.csv')\n",
    "X = df['Resume']\n",
    "y = df['Category']\n\n",
    "# Preprocess & Vectorize\n",
    "tfidf = TfidfVectorizer(stop_words='english', max_features=5000)\n",
    "X_tfidf = tfidf.fit_transform(X)\n\n",
    "# Train/test split\n",
    "X_train, X_test, y_train, y_test = train_test_split(X_tfidf, y, test_size=0.2, random_state=42)\n\n",
    "# Train model\n",
    "model = LogisticRegression()\n",
    "model.fit(X_train, y_train)\n\n",
    "# Save model\n",
    "joblib.dump(model, 'model.pkl')\n",
    "joblib.dump(tfidf, 'tfidf.pkl')\n\n",
    "# Evaluate\n",
    "y_pred = model.predict(X_test)\n",
    "print(classification_report(y_test, y_pred))"
   ]
  }
 ],
 "metadata": {},
 "nbformat": 4,
 "nbformat_minor": 2
}